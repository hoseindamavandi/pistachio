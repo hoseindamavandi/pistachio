{
 "cells": [
  {
   "cell_type": "code",
   "execution_count": 1,
   "id": "704a7fe3-a071-461b-af5e-8165100b6ed4",
   "metadata": {},
   "outputs": [],
   "source": [
    "import os\n",
    "import numpy as np\n",
    "import pandas as pd\n",
    "import cv2\n",
    "from helper import remove_background, segmentation_by_edge, edge_detection"
   ]
  },
  {
   "cell_type": "code",
   "execution_count": 2,
   "id": "388c94b2-5ea0-4931-811c-f1d37b43369a",
   "metadata": {},
   "outputs": [],
   "source": [
    "def feature_extraction_for_ture(img_in, mask):\n",
    "\n",
    "    feature = {'mean_0': [],\n",
    "               'mean_1': [],\n",
    "               'mean_2': [],\n",
    "               'median_0': [],\n",
    "               'median_1': [],\n",
    "               'median_2': [],\n",
    "               'label': [1]}\n",
    "    \n",
    "    feature['mean_0'].append(int(np.mean(img_in[:, :, 0][mask == 0])))\n",
    "    feature['mean_1'].append(int(np.mean(img_in[:, :, 1][mask == 0])))\n",
    "    feature['mean_2'].append(int(np.mean(img_in[:, :, 2][mask == 0])))\n",
    "    feature['median_0'].append(int(np.median(img_in[:, :, 0][mask == 0])))\n",
    "    feature['median_1'].append(int(np.median(img_in[:, :, 1][mask == 0])))\n",
    "    feature['median_2'].append(int(np.median(img_in[:, :, 2][mask == 0])))\n",
    "\n",
    "    df = pd.DataFrame.from_dict(feature)\n",
    "    \n",
    "    return df"
   ]
  },
  {
   "cell_type": "code",
   "execution_count": 3,
   "id": "1da82e14-0b52-4c56-990a-802b589adcca",
   "metadata": {},
   "outputs": [],
   "source": [
    "def feature_extraction_for_false(img_in, mask):\n",
    "\n",
    "    feature = {'mean_0': [],\n",
    "               'mean_1': [],\n",
    "               'mean_2': [],\n",
    "               'median_0': [],\n",
    "               'median_1': [],\n",
    "               'median_2': [],\n",
    "               'label': [0]}\n",
    "    \n",
    "    feature['mean_0'].append(int(np.mean(img_in[:, :, 0][mask == 0])))\n",
    "    feature['mean_1'].append(int(np.mean(img_in[:, :, 1][mask == 0])))\n",
    "    feature['mean_2'].append(int(np.mean(img_in[:, :, 2][mask == 0])))\n",
    "    feature['median_0'].append(int(np.median(img_in[:, :, 0][mask == 0])))\n",
    "    feature['median_1'].append(int(np.median(img_in[:, :, 1][mask == 0])))\n",
    "    feature['median_2'].append(int(np.median(img_in[:, :, 2][mask == 0])))\n",
    "\n",
    "    df = pd.DataFrame.from_dict(feature)\n",
    "    \n",
    "    return df"
   ]
  },
  {
   "cell_type": "code",
   "execution_count": 4,
   "id": "2a465db8-723f-43b2-baa1-7fe2ddf5f234",
   "metadata": {},
   "outputs": [],
   "source": [
    "image_list = os.listdir('dataset/True')\n",
    "data_frames = []\n",
    "for i in range(len(image_list)):\n",
    "    image = cv2.imread(os.path.join('dataset/True',image_list[i]))\n",
    "    img_out, mask = remove_background(image)\n",
    "    df = feature_extraction_for_ture(img_out, mask)\n",
    "    data_frames.append(df)\n",
    "\n",
    "data_frame = pd.concat(data_frames)\n",
    "data_frame.to_csv('dataset/True.csv',index=False)"
   ]
  },
  {
   "cell_type": "code",
   "execution_count": 5,
   "id": "a42672b5-63c6-4326-bf59-6dc651b109aa",
   "metadata": {},
   "outputs": [],
   "source": [
    "image_list = os.listdir('dataset/False')\n",
    "data_frames = []\n",
    "\n",
    "for i in range(len(image_list)):\n",
    "    if image_list[i] != '.DS_Store':\n",
    "        image = cv2.imread(os.path.join('dataset/False',image_list[i]))\n",
    "        img_out, mask = remove_background(image)\n",
    "        df = feature_extraction_for_false(img_out, mask)\n",
    "        data_frames.append(df)\n",
    "\n",
    "data_frame = pd.concat(data_frames)\n",
    "data_frame.to_csv('dataset/False.csv',index=False)"
   ]
  },
  {
   "cell_type": "code",
   "execution_count": 7,
   "id": "9de1dfc5-ede1-405c-a85b-851a671c3c89",
   "metadata": {},
   "outputs": [],
   "source": [
    "ture_df = pd.read_csv('dataset/True.csv')\n",
    "false_df = pd.read_csv('dataset/False.csv')\n",
    "df = pd.concat([ture_df, false_df], ignore_index=True)\n",
    "df.to_csv('dataframe.csv',index=False)"
   ]
  }
 ],
 "metadata": {
  "kernelspec": {
   "display_name": "Python 3 (ipykernel)",
   "language": "python",
   "name": "python3"
  },
  "language_info": {
   "codemirror_mode": {
    "name": "ipython",
    "version": 3
   },
   "file_extension": ".py",
   "mimetype": "text/x-python",
   "name": "python",
   "nbconvert_exporter": "python",
   "pygments_lexer": "ipython3",
   "version": "3.9.7"
  }
 },
 "nbformat": 4,
 "nbformat_minor": 5
}
